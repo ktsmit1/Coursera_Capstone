{
  "nbformat": 4,
  "nbformat_minor": 0,
  "metadata": {
    "colab": {
      "name": "Battle_of_the_Neighborhoods_Week_4_Data.ipynb",
      "provenance": [],
      "collapsed_sections": [],
      "authorship_tag": "ABX9TyOu5h17pHS+0E8E+TAwQOIS",
      "include_colab_link": true
    },
    "kernelspec": {
      "name": "python3",
      "display_name": "Python 3"
    }
  },
  "cells": [
    {
      "cell_type": "markdown",
      "metadata": {
        "id": "view-in-github",
        "colab_type": "text"
      },
      "source": [
        "<a href=\"https://colab.research.google.com/github/ktsmit1/Coursera_Capstone/blob/master/Battle_of_the_Neighborhoods_Week_4_Data.ipynb\" target=\"_parent\"><img src=\"https://colab.research.google.com/assets/colab-badge.svg\" alt=\"Open In Colab\"/></a>"
      ]
    },
    {
      "cell_type": "markdown",
      "metadata": {
        "id": "TsOq6_aHa8sc",
        "colab_type": "text"
      },
      "source": [
        "# Applied Data Science Capstone Class - Battle of the Neighborhoods - Week 4 - Data"
      ]
    },
    {
      "cell_type": "markdown",
      "metadata": {
        "id": "AKITm_3abCcd",
        "colab_type": "text"
      },
      "source": [
        "**For this week, I am required to submit the following:**\n",
        "1. A description of the problem and a discussion of the background. (15 marks)\n",
        "\n",
        "\n",
        "2.\tA description of the data and how it will be used to solve the problem. (15 marks)"
      ]
    },
    {
      "cell_type": "markdown",
      "metadata": {
        "id": "LdkoJV0SbG5F",
        "colab_type": "text"
      },
      "source": [
        "## 2. Description of the data and how it will be used to solve the problem"
      ]
    },
    {
      "cell_type": "markdown",
      "metadata": {
        "id": "CX9P3qQqbq0y",
        "colab_type": "text"
      },
      "source": [
        "### 2.1 Description of the Data"
      ]
    },
    {
      "cell_type": "markdown",
      "metadata": {
        "id": "mtF_yRW0bU5c",
        "colab_type": "text"
      },
      "source": [
        "**Chicago Near North Neighborhood Data**"
      ]
    },
    {
      "cell_type": "markdown",
      "metadata": {
        "id": "z67eJ-s4bZcW",
        "colab_type": "text"
      },
      "source": [
        "Chicago Near North Neighborhood Data Chicago Near North Neighborhood data will come from the City of Chicago’s data portal. Specifically, the data will come from the “Chicago Zip Code and Neighborhood Map”. https://data.cityofchicago.org/Facilities-Geographic-Boundaries/Chicago-Zip-Code-and-Neighborhood-Map/mapn-ahfc We are interested in the zip code for the Portillo’s on Clark and Ontario (i.e., 60610)."
      ]
    },
    {
      "cell_type": "markdown",
      "metadata": {
        "id": "xUQIVnSCba-b",
        "colab_type": "text"
      },
      "source": [
        "**Toronto Data**"
      ]
    },
    {
      "cell_type": "markdown",
      "metadata": {
        "id": "4r9ObudFbfTi",
        "colab_type": "text"
      },
      "source": [
        "From prior analysis, Toronto has 103 distinct neighborhoods. A list of the postal codes (making up the neighborhoods of Toronto) will be taken from Wikipedia. Postal codes starting with the letter “M”, are those for the city of Toronto in the province of Ontario. This is found at the link, https://en.wikipedia.org/wiki/List_of_postal_codes_of_Canada:_M.\n",
        "\n",
        "There will need to be some cleansing of these data, as well as merging with geospatial data. This geospatial data can be found at http://cocl.us/Geospatial_data.\n",
        "\n",
        "The cleansed data will then be used alongside Foursquare data."
      ]
    },
    {
      "cell_type": "markdown",
      "metadata": {
        "id": "oUS-7_MJbiCU",
        "colab_type": "text"
      },
      "source": [
        "### 2.2 How the data will be used to solve the problem"
      ]
    },
    {
      "cell_type": "markdown",
      "metadata": {
        "id": "Mf-YLq0hbvaY",
        "colab_type": "text"
      },
      "source": [
        "The problem is finding a postal code in Toronto that has a collection of venues that are similar to the venues around the Chicago Portillo's store at Clark and Ontario.\n",
        "\n",
        "Chicago data will be used to come up with a list of venues (by type) as a point of comparison. Chicago zip code data will be filtered for the zip code 60610. If the data available does not have the longitude and latitude available, they will be appended with geospatial data. Finally, these data will be merged with Foursquare data. They will then be analyzed, showing the most popular restaurant venues by type in that area.\n",
        "\n",
        "For example, for the Near North neighborhood (zip code 60610) at its longitude and latitude, examples may show a preponderance of national chain pizza restaurants (e.g., Pizzeria Uno) or national chain restaurants geared toward families with young children (e.g., The Rainforest Café).\n",
        "\n",
        "Toronto data will be analyzed by postal code. After merging the postal codes with geospatial data (to get the longitude and latitude), this will be married with Foursquare data. The data will be analyzed by venue (and venue type) to identify postal codes that would be considered analogous to that of the Chicago 60610 zip code.\n",
        "\n",
        "For example, the Near North Portillo's restaurant may have a number of Italian restaurants that are local to Chicago (i.e., not chains).  We can analyze the data to identify postal codes that have this same characteristic.\n",
        "\n",
        "Recommendations will be made for locating a Portillo's store in Toronto. This will allow the chain to replicate the formula that worked in Chicago, with the goal of expanding the brand's presence throughout the greater Toronto area."
      ]
    }
  ]
}
