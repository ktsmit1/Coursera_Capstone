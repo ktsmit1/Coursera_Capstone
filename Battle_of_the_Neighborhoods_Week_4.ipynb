{
  "nbformat": 4,
  "nbformat_minor": 0,
  "metadata": {
    "colab": {
      "name": "Battle_of_the_Neighborhoods_Week_4.ipynb",
      "provenance": [],
      "collapsed_sections": [],
      "authorship_tag": "ABX9TyNxSTYPEY8KH29NhBkW/muv",
      "include_colab_link": true
    },
    "kernelspec": {
      "name": "python3",
      "display_name": "Python 3"
    }
  },
  "cells": [
    {
      "cell_type": "markdown",
      "metadata": {
        "id": "view-in-github",
        "colab_type": "text"
      },
      "source": [
        "<a href=\"https://colab.research.google.com/github/ktsmit1/Coursera_Capstone/blob/master/Battle_of_the_Neighborhoods_Week_4.ipynb\" target=\"_parent\"><img src=\"https://colab.research.google.com/assets/colab-badge.svg\" alt=\"Open In Colab\"/></a>"
      ]
    },
    {
      "cell_type": "markdown",
      "metadata": {
        "id": "bHW_QfHJRMkW",
        "colab_type": "text"
      },
      "source": [
        "# Applied Data Science Capstone Class - Battle of the Neigbborhoods - Week 4"
      ]
    },
    {
      "cell_type": "markdown",
      "metadata": {
        "id": "xYxMtcB-RRCt",
        "colab_type": "text"
      },
      "source": [
        "**For this week, I am required to submit the following:**\n",
        "1. A description of the problem and a discussion of the background. (15 marks)\n",
        "\n",
        "\n",
        "2.\tA description of the data and how it will be used to solve the problem. (15 marks)\n"
      ]
    },
    {
      "cell_type": "markdown",
      "metadata": {
        "id": "yqQ30Ov2R2Br",
        "colab_type": "text"
      },
      "source": [
        "## 1. Description of the problem and the topic background"
      ]
    },
    {
      "cell_type": "markdown",
      "metadata": {
        "id": "JnFBpq6AR9J7",
        "colab_type": "text"
      },
      "source": [
        "Portillo's is a fast-food, casual style restaurant that is based in the Chicago area. Founded by Dick Portillo in 1963, it specializes in serving Chicago-style food such as hot dogs, Maxwell Street Polish, and Italian Beef.\n",
        "After returning from the U.S. Marine Corps, Dick Portillo took his savings and investment funds from his brother to purchase a 12-foot trailer (named, \"The Dog House\") and operated it on North Avenue in Villa Park, Illinois as a hot dog stand. By the 1990's, after rebranding to \"Portillo's\", there were 25 stores in the Chicago area.\n",
        "\n",
        "Portillo continued to expand into Northern Illinois and the metropolitan areas of Indianapolis, Minneapolis-St. Paul, Milwaukee, Phoenix, Southern California, and Tampa, Florida.\n",
        "\n",
        "In 2014, the chain was sold to Berkshires Partners. There are 60 stores in the chain. Plans are to continue to expand by 5 to 7 stores per year.\n",
        "\n",
        "**Popularity of Portillo's **\n",
        "\n",
        "Portillo's is a Chicago institution. The stores are decorated with a variety of historic memorabilia from the 20s, 30s, 50s, and 60s. From the music to the décor, each restaurant has the old-time Chicago feel. Families typically have weekly meals at Portillo's, enjoying comfort food at reasonable prices in a casual, eclectic atmosphere.\n",
        "\n",
        "**Problem Statement **\n",
        "\n",
        "Unfortunately, Portillo's has not been able to engender the same level of enthusiasm for the chain outside of Chicago. Although sales outside of Chicago are hitting their modest targets, they are not getting the foothold necessary to support more than one or two stores in a metropolitan area (other than the Chicagoland area).\n",
        "\n",
        "Since Toronto is larger, but still close in size to Chicago, the Product Owners for the Portillo’s chain would like to identify an area in Toronto that is similar to the most profitable Portillo’s location.  That location is in the Near North neighborhood (zip code 60610) at Clark Street and Ontario Street in Chicago.  This location is very popular with both local residents and with tourists to Chicago. \n",
        "\n",
        "By finding a neighborhood in Toronto similar to the Near North neighborhood, the chain can open a new Portillo’s location, tailor it to the sensibilities of that neighborhood, and begin to expand to multiple locations in Toronto from there.\n"
      ]
    },
    {
      "cell_type": "markdown",
      "metadata": {
        "id": "yJQNdjc9Tjdr",
        "colab_type": "text"
      },
      "source": [
        "Background - Criteria"
      ]
    },
    {
      "cell_type": "markdown",
      "metadata": {
        "id": "L04LHG9ATOkz",
        "colab_type": "text"
      },
      "source": [
        "Finding neighborhoods in Toronto that have several casual-style chain restaurants would be similar to that of the Portillo’s Clark and Ontario store.    Narrowing down the best neighborhood options through analysis will allow for the Portillo’s Product Team to perform ground searches for specific sites.\n"
      ]
    },
    {
      "cell_type": "markdown",
      "metadata": {
        "id": "AWxvCfgYTbge",
        "colab_type": "text"
      },
      "source": [
        "**Background - Why Data?**"
      ]
    },
    {
      "cell_type": "markdown",
      "metadata": {
        "id": "h-pRKo8QTiWx",
        "colab_type": "text"
      },
      "source": [
        "Without leveraging data to make decisions about a new store location, the Portillo’s Product Team would need to rely on guess work and opinions, rather than objective facts.  Data will allow the team to objectively consider a number of aspects, allowing for a more rigorous, objective decision-making process."
      ]
    },
    {
      "cell_type": "markdown",
      "metadata": {
        "id": "9yOSXek1TuLw",
        "colab_type": "text"
      },
      "source": [
        "Background - Outcomes"
      ]
    },
    {
      "cell_type": "markdown",
      "metadata": {
        "id": "VoghkBxYT1wG",
        "colab_type": "text"
      },
      "source": [
        "The goal is to identify the best neighborhoods to open a new store in Toronto, leaving room to expand within the metropolitan area. The results will be translated to management in a simple form that will convey the data-driven analysis for the best location to open the store."
      ]
    },
    {
      "cell_type": "markdown",
      "metadata": {
        "id": "4X1psYxzSwyq",
        "colab_type": "text"
      },
      "source": [
        "## 2. Description of the data and how it will be used to solve the problem"
      ]
    },
    {
      "cell_type": "markdown",
      "metadata": {
        "id": "cXhD__ZaT_eA",
        "colab_type": "text"
      },
      "source": [
        "**2.1 Data Requirements**"
      ]
    },
    {
      "cell_type": "markdown",
      "metadata": {
        "id": "HeY2nDQ1UJif",
        "colab_type": "text"
      },
      "source": [
        "Chicago Near North Neighborhood Data"
      ]
    },
    {
      "cell_type": "markdown",
      "metadata": {
        "id": "cC-NeA9lUTdO",
        "colab_type": "text"
      },
      "source": [
        "Chicago Near North Neighborhood Data\n",
        "Chicago Near North Neighborhood data will come from the City of Chicago’s data portal.  Specifically, the data will come from the “Chicago Zip Code and Neighborhood Map”.\n",
        "https://data.cityofchicago.org/Facilities-Geographic-Boundaries/Chicago-Zip-Code-and-Neighborhood-Map/mapn-ahfc\n",
        "We are interested in the zip code for the Portillo’s on Clark and Ontario (i.e., 60610)."
      ]
    },
    {
      "cell_type": "markdown",
      "metadata": {
        "id": "GEfm8ET_Usej",
        "colab_type": "text"
      },
      "source": [
        "Toronto Data"
      ]
    },
    {
      "cell_type": "markdown",
      "metadata": {
        "id": "6VhTGTVcUxtV",
        "colab_type": "text"
      },
      "source": [
        "From prior analysis, Toronto has 103 distinct neighborhoods.  A list of the postal codes (making up the neighborhoods of Toronto) will be taken from Wikipedia.  Postal codes starting with the letter “M”, are those for the city of Toronto in the province of Ontario.  This is found at the link, https://en.wikipedia.org/wiki/List_of_postal_codes_of_Canada:_M. \n",
        "\n",
        "There will need to be some cleansing of these data, as well as merging with geospatial data.  This geospatial data can be found at http://cocl.us/Geospatial_data.\n",
        "\n",
        "The cleansed data will then be used alongside Foursquare data."
      ]
    },
    {
      "cell_type": "markdown",
      "metadata": {
        "id": "bVowzUVJUfcV",
        "colab_type": "text"
      },
      "source": [
        "2.2 How the data will be used to solve the problem"
      ]
    },
    {
      "cell_type": "markdown",
      "metadata": {
        "id": "tjkmkWLfWBEx",
        "colab_type": "text"
      },
      "source": [
        "The problem is finding a postal code in Toronto that has a collection of venues that are similar to the venues around the Chicago Portillo's store at Clark and Ontario.\n",
        "\n",
        "Chicago data will be used to come up with a list of venues (by type) as a point of comparison.  Chicago zip code data will be filtered for the zip code 60610.  If the data available does not have the longitude and latitude available, they will be appended with geospatial data.  Finally, these data will be merged with Foursquare data.  They will then be analyzed, showing the most popular restaurant venues by type in that area.\n",
        "\n",
        "Toronto data will be analyzed by postal code.  After merging the postal codes with geospatial data (to get the longitude and latitude), this will be married with Foursquare data.  The data will be analyzed by venue (and venue type) to identify postal codes that would be considered analogous to that of the Chicago 60610 zip code.\n",
        "\n",
        "Recommendations will be made for locating a Portillo's store in Toronto.  This will allow the chain to replicate the formula that worked in Chicago, with the goal of expanding the brand's presence throughout the greater Toronto area."
      ]
    },
    {
      "cell_type": "code",
      "metadata": {
        "id": "SwEXORRmUm5s",
        "colab_type": "code",
        "colab": {}
      },
      "source": [
        ""
      ],
      "execution_count": 0,
      "outputs": []
    }
  ]
}